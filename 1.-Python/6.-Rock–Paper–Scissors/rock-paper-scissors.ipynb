{
 "cells": [
  {
   "cell_type": "markdown",
   "metadata": {},
   "source": [
    "<img src=\"https://bit.ly/2VnXWr2\" width=\"100\" align=\"left\">"
   ]
  },
  {
   "cell_type": "markdown",
   "metadata": {},
   "source": [
    "# Rock, Paper & Scissors\n",
    "\n",
    "Let's play the famous game against our computer. You can check the rules [here](https://en.wikipedia.org/wiki/Rock%E2%80%93paper%E2%80%93scissors). \n",
    "\n",
    "## Task\n",
    "Create a program that imitates the playability of the well known game of rock, paper, scissors. Follow the guidelines provided.\n",
    "\n",
    "## Tools\n",
    "1. Loop: **for/while**\n",
    "2. Functions: **input(), print()...**\n",
    "3. Conditional statements: **if, elif, else**\n",
    "4. Definition of functions. Modular programming\n",
    "5. Import modules\n",
    "\n",
    "**To solve this challenge, the use of functions is recommended.**\n",
    "\n",
    "#### 1. Import the choice function of the random module."
   ]
  },
  {
   "cell_type": "code",
   "execution_count": 1,
   "metadata": {},
   "outputs": [],
   "source": [
    "import random"
   ]
  },
  {
   "cell_type": "markdown",
   "metadata": {},
   "source": [
    "#### 2. Create a list that includes the 3 possible gesture options of the game: 'rock', 'paper' or 'scissors'. Store the list in a variable called `gestures`."
   ]
  },
  {
   "cell_type": "code",
   "execution_count": 2,
   "metadata": {},
   "outputs": [],
   "source": [
    "gestures = [\"rock\", \"paper\", \"scissors\"]"
   ]
  },
  {
   "cell_type": "markdown",
   "metadata": {},
   "source": [
    "#### 3. Create a variable called `n_rounds` to store the maximum number of rounds to play in a game. \n",
    "Remember that the number of rounds must be odd: 1, 3, 5, ..."
   ]
  },
  {
   "cell_type": "code",
   "execution_count": 3,
   "metadata": {},
   "outputs": [],
   "source": [
    "n_rounds = 3"
   ]
  },
  {
   "cell_type": "markdown",
   "metadata": {},
   "source": [
    "#### 4. Create a variable called `rounds_to_win` to store the number of rounds that a player must win to win the game.\n",
    "**Hint**: the value stored in `rounds_to_win` depends on the value of `n_rounds`. "
   ]
  },
  {
   "cell_type": "code",
   "execution_count": 4,
   "metadata": {},
   "outputs": [],
   "source": [
    "rounds_to_win = round((n_rounds/2) + 0.5) #round up "
   ]
  },
  {
   "cell_type": "markdown",
   "metadata": {},
   "source": [
    "#### 5. Create two variables to store the number of rounds that the computer and the player have won. Call these variables `cpu_score` and `player_score`."
   ]
  },
  {
   "cell_type": "code",
   "execution_count": 5,
   "metadata": {},
   "outputs": [],
   "source": [
    "cpu_score = 0\n",
    "player_score = 0"
   ]
  },
  {
   "cell_type": "markdown",
   "metadata": {},
   "source": [
    "#### 6. Define a function that randomly returns one of the 3 gesture options.\n",
    "You will use this function to simulate the gesture choice of the computer. "
   ]
  },
  {
   "cell_type": "code",
   "execution_count": 6,
   "metadata": {},
   "outputs": [],
   "source": [
    "def getGesture(gestures):\n",
    "    return random.choice(gestures)"
   ]
  },
  {
   "cell_type": "markdown",
   "metadata": {},
   "source": [
    "#### 7. Define a function that asks the player which is the gesture he or she wants to show: 'rock', 'paper' or 'scissors'.\n",
    "The player should only be allowed to choose one of the 3 gesture options. If the player's choice is not rock, paper or scissors, keep asking until it is."
   ]
  },
  {
   "cell_type": "code",
   "execution_count": 7,
   "metadata": {},
   "outputs": [],
   "source": [
    "def inputGesture():\n",
    "    player_gesture=\"\"\n",
    "    while (player_gesture!=\"rock\") and (player_gesture!=\"paper\") and (player_gesture!=\"scissors\"):\n",
    "        player_gesture = input(\"What gesture do you want to show: rock, paper or scissors? \")\n",
    "    return player_gesture"
   ]
  },
  {
   "cell_type": "markdown",
   "metadata": {},
   "source": [
    "#### 8. Define a function that checks who won a round. \n",
    "The function should return 0 if there is a tie, 1 if the computer wins and 2 if the player wins."
   ]
  },
  {
   "cell_type": "code",
   "execution_count": 8,
   "metadata": {},
   "outputs": [],
   "source": [
    "def checkRoundWinner(player_gesture, cpu_gesture):\n",
    "    if(player_gesture == cpu_gesture):\n",
    "        return 0\n",
    "    elif(player_gesture == \"rock\" and cpu_gesture == \"scissors\"):\n",
    "        return 2\n",
    "    elif(player_gesture == \"rock\" and cpu_gesture == \"paper\"):\n",
    "        return 1\n",
    "    elif(player_gesture == \"scissors\" and cpu_gesture == \"paper\"):\n",
    "        return 2\n",
    "    elif(player_gesture == \"scissors\" and cpu_gesture == \"rock\"):\n",
    "        return 1\n",
    "    elif(player_gesture == \"paper\" and cpu_gesture == \"rock\"):\n",
    "        return 2\n",
    "    elif(player_gesture == \"paper\" and cpu_gesture == \"scissors\"):\n",
    "        return 1"
   ]
  },
  {
   "cell_type": "markdown",
   "metadata": {},
   "source": [
    "#### 9. Define a function that prints the choice of the computer, the choice of the player and a message that announces who won the current round. \n",
    "You should also use this function to update the variables that count the number of rounds that the computer and the player have won. The score of the winner increases by one point. If there is a tie, the score does not increase."
   ]
  },
  {
   "cell_type": "code",
   "execution_count": 9,
   "metadata": {},
   "outputs": [],
   "source": [
    "def printing(player_gesture, cpu_gesture, player_score, cpu_score, result):\n",
    "    print(\"The computer has chosen: \", cpu_gesture)\n",
    "    print(\"The player has chosen: \", player_gesture)\n",
    "    if( result == 1):\n",
    "        cpu_score += 1\n",
    "        print(\"The computer won this round\")\n",
    "    elif( result == 2):\n",
    "        player_score += 1\n",
    "        print(\"The player won this round\")    \n",
    "    return player_score, cpu_score"
   ]
  },
  {
   "cell_type": "markdown",
   "metadata": {},
   "source": [
    "#### 10. Now it's time to code the execution of the game using the functions and variables you defined above. \n",
    "\n",
    "First, create a loop structure that repeats while no player reaches the minimum score necessary to win and the number of rounds is less than the maximum number of rounds to play in a game.  \n",
    "\n",
    "Inside the loop, use the functions and variables above to create the execution of a round: ask for the player's choice, generate the random choice of the computer, show the round results, update the scores, etc. "
   ]
  },
  {
   "cell_type": "code",
   "execution_count": 11,
   "metadata": {},
   "outputs": [
    {
     "name": "stdout",
     "output_type": "stream",
     "text": [
      "What gesture do you want to show: rock, paper or scissors? paper\n",
      "The computer has chosen:  rock\n",
      "The player has chosen:  paper\n",
      "The player won this round\n",
      "What gesture do you want to show: rock, paper or scissors? paper\n",
      "The computer has chosen:  rock\n",
      "The player has chosen:  paper\n",
      "The player won this round\n"
     ]
    }
   ],
   "source": [
    "n = 1\n",
    "\n",
    "while (cpu_score < rounds_to_win) and (player_score < rounds_to_win) and (n <= n_rounds):\n",
    "    #ask for the player's choice\n",
    "    player_gesture = inputGesture()\n",
    "    #generate random choice for the computer\n",
    "    cpu_gesture = getGesture(gestures)\n",
    "    #check the winner of the round\n",
    "    round_result = checkRoundWinner(player_gesture, cpu_gesture)\n",
    "    #Print the result\n",
    "    player_score, cpu_score = printing(player_gesture, cpu_gesture, player_score, cpu_score, round_result)\n",
    "    \n",
    "    n +=1"
   ]
  },
  {
   "cell_type": "markdown",
   "metadata": {},
   "source": [
    "#### 11. Print the winner of the game based on who won more rounds.\n",
    "Remember that the game might be tied. "
   ]
  },
  {
   "cell_type": "code",
   "execution_count": 12,
   "metadata": {},
   "outputs": [
    {
     "name": "stdout",
     "output_type": "stream",
     "text": [
      "The player is the winner\n"
     ]
    }
   ],
   "source": [
    "if( cpu_score > player_score):\n",
    "    print(\"The winner is the computer\")\n",
    "elif( cpu_score < player_score):\n",
    "    print(\"The player is the winner\")\n",
    "else:\n",
    "    print(\"There are no winners. It is a tie\")"
   ]
  },
  {
   "cell_type": "markdown",
   "metadata": {},
   "source": [
    "# Bonus: Rock, Paper, Scissors, Lizard & Spock\n",
    "![](images/rpsls.jpg)\n",
    "\n",
    "In this challenge, you need to improve the previous game by adding two new options. To know more about the rules of the improved version of rock, paper, scissors, check this [link](http://www.samkass.com/theories/RPSSL.html). \n",
    "\n",
    "In addition, you will also need to improve how the game interacts with the player: the number of rounds to play, which must be an odd number, will be requested to the user until a valid number is entered. Define a new function to make that request.\n",
    "\n",
    "**Hint**: Try to reuse the code that you already coded in the previous challenge. If your code is efficient, this bonus will only consist of simple modifications to the original game."
   ]
  },
  {
   "cell_type": "code",
   "execution_count": 14,
   "metadata": {},
   "outputs": [
    {
     "name": "stdout",
     "output_type": "stream",
     "text": [
      "How many rounds do you want to play? Remember that it has to be an odd number3\n",
      "What gesture do you want to show: rock, paper, scissors, lizard or spock? rock\n",
      "The computer has chosen:  lizard\n",
      "The player has chosen:  rock\n",
      "The player won this round\n",
      "What gesture do you want to show: rock, paper, scissors, lizard or spock? rock\n",
      "The computer has chosen:  scissors\n",
      "The player has chosen:  rock\n",
      "The player won this round\n",
      "The player is the winner\n"
     ]
    }
   ],
   "source": [
    "import random\n",
    "\n",
    "#Define possible gestures\n",
    "gestures = [\"rock\", \"paper\", \"scissors\", \"lizard\", \"spock\"]\n",
    "\n",
    "#Number of rounds each player has won\n",
    "cpu_score = 0\n",
    "player_score = 0\n",
    "\n",
    "#Random gesture choice\n",
    "def getGesture(gestures):\n",
    "    return random.choice(gestures)\n",
    "\n",
    "#Ask for an input gesture\n",
    "def inputGesture():\n",
    "    player_gesture=\"\"\n",
    "    while (player_gesture!=\"rock\") and (player_gesture!=\"paper\") and (player_gesture!=\"scissors\") and (player_gesture!=\"lizard\") and (player_gesture!=\"spock\"):\n",
    "        player_gesture = input(\"What gesture do you want to show: rock, paper, scissors, lizard or spock? \")\n",
    "    return player_gesture\n",
    "\n",
    "#Check who won the round\n",
    "def checkRoundWinner(player_gesture, cpu_gesture):\n",
    "    if(player_gesture == cpu_gesture):\n",
    "        return 0\n",
    "    elif(player_gesture == \"rock\" and cpu_gesture == \"scissors\") | (player_gesture == \"rock\" and cpu_gesture == \"lizard\"):\n",
    "        return 2\n",
    "    elif(player_gesture == \"rock\" and cpu_gesture == \"paper\") | (player_gesture == \"rock\" and cpu_gesture == \"spock\"):\n",
    "        return 1\n",
    "    elif(player_gesture == \"scissors\" and cpu_gesture == \"paper\") | (player_gesture == \"scissors\" and cpu_gesture == \"lizard\"):\n",
    "        return 2\n",
    "    elif(player_gesture == \"scissors\" and cpu_gesture == \"rock\") | (player_gesture == \"scissors\" and cpu_gesture == \"spock\"):\n",
    "        return 1\n",
    "    elif(player_gesture == \"paper\" and cpu_gesture == \"rock\") | (player_gesture == \"paper\" and cpu_gesture == \"spock\"):\n",
    "        return 2\n",
    "    elif(player_gesture == \"paper\" and cpu_gesture == \"scissors\") | (player_gesture == \"paper\" and cpu_gesture == \"lizard\"):\n",
    "        return 1\n",
    "    elif(player_gesture == \"lizard\" and cpu_gesture == \"paper\") | (player_gesture == \"lizard\" and cpu_gesture == \"spock\"):\n",
    "        return 2\n",
    "    elif(player_gesture == \"lizard\" and cpu_gesture == \"scissors\") | (player_gesture == \"lizard\" and cpu_gesture == \"rock\"):\n",
    "        return 1\n",
    "    elif(player_gesture == \"spock\" and cpu_gesture == \"rock\") | (player_gesture == \"spock\" and cpu_gesture == \"scissors\"):\n",
    "        return 2\n",
    "    elif(player_gesture == \"spock\" and cpu_gesture == \"paper\") | (player_gesture == \"spock\" and cpu_gesture == \"lizard\"):\n",
    "        return 1\n",
    "\n",
    "#Print the round results\n",
    "def printing(player_gesture, cpu_gesture, player_score, cpu_score, result):\n",
    "    print(\"The computer has chosen: \", cpu_gesture)\n",
    "    print(\"The player has chosen: \", player_gesture)\n",
    "    if( result == 1):\n",
    "        cpu_score += 1    \n",
    "        print(\"The computer won this round\")\n",
    "    elif( result == 2):\n",
    "        player_score += 1\n",
    "        print(\"The player won this round\")\n",
    "    return player_score, cpu_score\n",
    "\n",
    "#Ask to the user how many rounds to play. It has to be an odd number\n",
    "def roundsToPlay():\n",
    "    n_rounds = 0\n",
    "    while (n_rounds%2 == 0):\n",
    "        n_rounds = input(\"How many rounds do you want to play? Remember that it has to be an odd number\")\n",
    "        n_rounds = int(n_rounds)\n",
    "    return n_rounds\n",
    "\n",
    "#Main code\n",
    "\n",
    "#total number of rounds\n",
    "n_rounds = roundsToPlay()\n",
    "\n",
    "#define the number of rounds to be the winner\n",
    "rounds_to_win = round((n_rounds/2) + 0.5) #round up \n",
    "\n",
    "\n",
    "\n",
    "n = 1 #auxiliar variable to count the number of round played\n",
    "\n",
    "while (cpu_score < rounds_to_win) and (player_score < rounds_to_win) and (n <= n_rounds):\n",
    "    #ask for the player's choice\n",
    "    player_gesture = inputGesture()\n",
    "    #generate random choice for the computer\n",
    "    cpu_gesture = getGesture(gestures)\n",
    "    #check the winner of the round\n",
    "    round_result = checkRoundWinner(player_gesture, cpu_gesture)\n",
    "    round_result = int(round_result)\n",
    "    #Print the result\n",
    "    player_score, cpu_score = printing(player_gesture, cpu_gesture, player_score, cpu_score, round_result)\n",
    "    \n",
    "    n +=1\n",
    "\n",
    "#Print the game result\n",
    "if( cpu_score > player_score):\n",
    "    print(\"The winner is the computer\")\n",
    "elif( cpu_score < player_score):\n",
    "    print(\"The player is the winner\")\n",
    "else:\n",
    "    print(\"There are no winners. It is a tie\")"
   ]
  },
  {
   "cell_type": "raw",
   "metadata": {},
   "source": []
  },
  {
   "cell_type": "code",
   "execution_count": null,
   "metadata": {},
   "outputs": [],
   "source": []
  }
 ],
 "metadata": {
  "kernelspec": {
   "display_name": "Python 3",
   "language": "python",
   "name": "python3"
  },
  "language_info": {
   "codemirror_mode": {
    "name": "ipython",
    "version": 3
   },
   "file_extension": ".py",
   "mimetype": "text/x-python",
   "name": "python",
   "nbconvert_exporter": "python",
   "pygments_lexer": "ipython3",
   "version": "3.7.6"
  }
 },
 "nbformat": 4,
 "nbformat_minor": 2
}
